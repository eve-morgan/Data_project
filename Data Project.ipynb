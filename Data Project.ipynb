{
 "cells": [
  {
   "cell_type": "code",
   "execution_count": 1,
   "id": "d3da31b6-1b50-4832-a756-6a747026b19c",
   "metadata": {},
   "outputs": [],
   "source": [
    "import pandas as pd\n",
    "import numpy as np\n",
    "import matplotlib.pyplot as plt\n",
    "import seaborn as sns\n",
    "%matplotlib inline\n",
    "import warnings\n",
    "warnings.filterwarnings('ignore')\n",
    "from matplotlib.pyplot import figure"
   ]
  },
  {
   "cell_type": "code",
   "execution_count": 2,
   "id": "11d01fc3-a88e-4423-8711-8158422e58c1",
   "metadata": {
    "scrolled": true
   },
   "outputs": [],
   "source": [
    "dictionary = pd.read_excel('../Data_project/Data_dictionary.xlsx', sheet_name = ['Public Records Dictionary', 'Loan Performance Dictionary', 'Public Record Type Codes', 'Public Record Source Type Codes'])"
   ]
  },
  {
   "cell_type": "markdown",
   "id": "75191007-feb2-4781-bd3e-6cefc50c9441",
   "metadata": {},
   "source": [
    "# Loan Performance"
   ]
  },
  {
   "cell_type": "markdown",
   "id": "62aa9176-15cf-48a0-8749-ba22ff1d3d36",
   "metadata": {},
   "source": [
    "### 1. Data Preparation:"
   ]
  },
  {
   "cell_type": "code",
   "execution_count": 3,
   "id": "08466869-50d8-40f9-83af-f07f70a81ad4",
   "metadata": {},
   "outputs": [],
   "source": [
    "loan = pd.read_csv('../Data_project/Loan_performance.csv')"
   ]
  },
  {
   "cell_type": "code",
   "execution_count": 4,
   "id": "091f9abf-deca-44f9-a491-6a962d1e52b8",
   "metadata": {},
   "outputs": [
    {
     "data": {
      "text/html": [
       "<div>\n",
       "<style scoped>\n",
       "    .dataframe tbody tr th:only-of-type {\n",
       "        vertical-align: middle;\n",
       "    }\n",
       "\n",
       "    .dataframe tbody tr th {\n",
       "        vertical-align: top;\n",
       "    }\n",
       "\n",
       "    .dataframe thead th {\n",
       "        text-align: right;\n",
       "    }\n",
       "</style>\n",
       "<table border=\"1\" class=\"dataframe\">\n",
       "  <thead>\n",
       "    <tr style=\"text-align: right;\">\n",
       "      <th></th>\n",
       "      <th>analytics_matchkey</th>\n",
       "      <th>max_loan_amount</th>\n",
       "      <th>late_30_days</th>\n",
       "      <th>late_60_days</th>\n",
       "      <th>late_90_days</th>\n",
       "    </tr>\n",
       "  </thead>\n",
       "  <tbody>\n",
       "    <tr>\n",
       "      <th>0</th>\n",
       "      <td>1346745</td>\n",
       "      <td>2500</td>\n",
       "      <td>0</td>\n",
       "      <td>0</td>\n",
       "      <td>0</td>\n",
       "    </tr>\n",
       "    <tr>\n",
       "      <th>1</th>\n",
       "      <td>1346746</td>\n",
       "      <td>1000</td>\n",
       "      <td>0</td>\n",
       "      <td>0</td>\n",
       "      <td>0</td>\n",
       "    </tr>\n",
       "    <tr>\n",
       "      <th>2</th>\n",
       "      <td>1346747</td>\n",
       "      <td>1002</td>\n",
       "      <td>0</td>\n",
       "      <td>0</td>\n",
       "      <td>0</td>\n",
       "    </tr>\n",
       "    <tr>\n",
       "      <th>3</th>\n",
       "      <td>1346748</td>\n",
       "      <td>1500</td>\n",
       "      <td>0</td>\n",
       "      <td>0</td>\n",
       "      <td>0</td>\n",
       "    </tr>\n",
       "    <tr>\n",
       "      <th>4</th>\n",
       "      <td>1346749</td>\n",
       "      <td>1675</td>\n",
       "      <td>0</td>\n",
       "      <td>0</td>\n",
       "      <td>0</td>\n",
       "    </tr>\n",
       "  </tbody>\n",
       "</table>\n",
       "</div>"
      ],
      "text/plain": [
       "   analytics_matchkey  max_loan_amount  late_30_days  late_60_days  \\\n",
       "0             1346745             2500             0             0   \n",
       "1             1346746             1000             0             0   \n",
       "2             1346747             1002             0             0   \n",
       "3             1346748             1500             0             0   \n",
       "4             1346749             1675             0             0   \n",
       "\n",
       "   late_90_days  \n",
       "0             0  \n",
       "1             0  \n",
       "2             0  \n",
       "3             0  \n",
       "4             0  "
      ]
     },
     "execution_count": 4,
     "metadata": {},
     "output_type": "execute_result"
    }
   ],
   "source": [
    "loan.head()"
   ]
  },
  {
   "cell_type": "code",
   "execution_count": 5,
   "id": "1beff67b-7785-4657-9855-56231677264a",
   "metadata": {},
   "outputs": [
    {
     "data": {
      "text/plain": [
       "(646127, 5)"
      ]
     },
     "execution_count": 5,
     "metadata": {},
     "output_type": "execute_result"
    }
   ],
   "source": [
    "loan.shape"
   ]
  },
  {
   "cell_type": "code",
   "execution_count": 6,
   "id": "bb3a2bb0-793e-43e3-9ca7-d3d128836c4e",
   "metadata": {
    "scrolled": true
   },
   "outputs": [
    {
     "name": "stdout",
     "output_type": "stream",
     "text": [
      "<class 'pandas.core.frame.DataFrame'>\n",
      "RangeIndex: 646127 entries, 0 to 646126\n",
      "Data columns (total 5 columns):\n",
      " #   Column              Non-Null Count   Dtype\n",
      "---  ------              --------------   -----\n",
      " 0   analytics_matchkey  646127 non-null  int64\n",
      " 1   max_loan_amount     646127 non-null  int64\n",
      " 2   late_30_days        646127 non-null  int64\n",
      " 3   late_60_days        646127 non-null  int64\n",
      " 4   late_90_days        646127 non-null  int64\n",
      "dtypes: int64(5)\n",
      "memory usage: 24.6 MB\n"
     ]
    }
   ],
   "source": [
    "loan.info()"
   ]
  },
  {
   "cell_type": "code",
   "execution_count": 7,
   "id": "2adc5c3e-cc53-44e6-bdde-05d886ed0ab6",
   "metadata": {},
   "outputs": [
    {
     "data": {
      "text/html": [
       "<div>\n",
       "<style scoped>\n",
       "    .dataframe tbody tr th:only-of-type {\n",
       "        vertical-align: middle;\n",
       "    }\n",
       "\n",
       "    .dataframe tbody tr th {\n",
       "        vertical-align: top;\n",
       "    }\n",
       "\n",
       "    .dataframe thead th {\n",
       "        text-align: right;\n",
       "    }\n",
       "</style>\n",
       "<table border=\"1\" class=\"dataframe\">\n",
       "  <thead>\n",
       "    <tr style=\"text-align: right;\">\n",
       "      <th></th>\n",
       "      <th>analytics_matchkey</th>\n",
       "      <th>max_loan_amount</th>\n",
       "      <th>late_30_days</th>\n",
       "      <th>late_60_days</th>\n",
       "      <th>late_90_days</th>\n",
       "    </tr>\n",
       "  </thead>\n",
       "  <tbody>\n",
       "    <tr>\n",
       "      <th>count</th>\n",
       "      <td>6.461270e+05</td>\n",
       "      <td>646127.000000</td>\n",
       "      <td>646127.000000</td>\n",
       "      <td>646127.000000</td>\n",
       "      <td>646127.000000</td>\n",
       "    </tr>\n",
       "    <tr>\n",
       "      <th>mean</th>\n",
       "      <td>1.669828e+06</td>\n",
       "      <td>1742.545930</td>\n",
       "      <td>0.121569</td>\n",
       "      <td>0.091559</td>\n",
       "      <td>0.081602</td>\n",
       "    </tr>\n",
       "    <tr>\n",
       "      <th>std</th>\n",
       "      <td>1.865318e+05</td>\n",
       "      <td>730.869254</td>\n",
       "      <td>0.326788</td>\n",
       "      <td>0.288403</td>\n",
       "      <td>0.273757</td>\n",
       "    </tr>\n",
       "    <tr>\n",
       "      <th>min</th>\n",
       "      <td>1.346745e+06</td>\n",
       "      <td>1000.000000</td>\n",
       "      <td>0.000000</td>\n",
       "      <td>0.000000</td>\n",
       "      <td>0.000000</td>\n",
       "    </tr>\n",
       "    <tr>\n",
       "      <th>25%</th>\n",
       "      <td>1.508286e+06</td>\n",
       "      <td>1166.000000</td>\n",
       "      <td>0.000000</td>\n",
       "      <td>0.000000</td>\n",
       "      <td>0.000000</td>\n",
       "    </tr>\n",
       "    <tr>\n",
       "      <th>50%</th>\n",
       "      <td>1.669831e+06</td>\n",
       "      <td>1500.000000</td>\n",
       "      <td>0.000000</td>\n",
       "      <td>0.000000</td>\n",
       "      <td>0.000000</td>\n",
       "    </tr>\n",
       "    <tr>\n",
       "      <th>75%</th>\n",
       "      <td>1.831370e+06</td>\n",
       "      <td>2076.000000</td>\n",
       "      <td>0.000000</td>\n",
       "      <td>0.000000</td>\n",
       "      <td>0.000000</td>\n",
       "    </tr>\n",
       "    <tr>\n",
       "      <th>max</th>\n",
       "      <td>1.992908e+06</td>\n",
       "      <td>4000.000000</td>\n",
       "      <td>1.000000</td>\n",
       "      <td>1.000000</td>\n",
       "      <td>1.000000</td>\n",
       "    </tr>\n",
       "  </tbody>\n",
       "</table>\n",
       "</div>"
      ],
      "text/plain": [
       "       analytics_matchkey  max_loan_amount   late_30_days   late_60_days  \\\n",
       "count        6.461270e+05    646127.000000  646127.000000  646127.000000   \n",
       "mean         1.669828e+06      1742.545930       0.121569       0.091559   \n",
       "std          1.865318e+05       730.869254       0.326788       0.288403   \n",
       "min          1.346745e+06      1000.000000       0.000000       0.000000   \n",
       "25%          1.508286e+06      1166.000000       0.000000       0.000000   \n",
       "50%          1.669831e+06      1500.000000       0.000000       0.000000   \n",
       "75%          1.831370e+06      2076.000000       0.000000       0.000000   \n",
       "max          1.992908e+06      4000.000000       1.000000       1.000000   \n",
       "\n",
       "        late_90_days  \n",
       "count  646127.000000  \n",
       "mean        0.081602  \n",
       "std         0.273757  \n",
       "min         0.000000  \n",
       "25%         0.000000  \n",
       "50%         0.000000  \n",
       "75%         0.000000  \n",
       "max         1.000000  "
      ]
     },
     "execution_count": 7,
     "metadata": {},
     "output_type": "execute_result"
    }
   ],
   "source": [
    "loan.describe()"
   ]
  },
  {
   "cell_type": "code",
   "execution_count": 8,
   "id": "2183a464-aa36-4440-a7a2-bee085494eca",
   "metadata": {},
   "outputs": [
    {
     "data": {
      "text/plain": [
       "True"
      ]
     },
     "execution_count": 8,
     "metadata": {},
     "output_type": "execute_result"
    }
   ],
   "source": [
    "len(loan) == len(loan['analytics_matchkey'].unique())"
   ]
  },
  {
   "cell_type": "code",
   "execution_count": 9,
   "id": "62355537-0d1d-4912-a735-cb2bae8292fd",
   "metadata": {},
   "outputs": [
    {
     "data": {
      "text/html": [
       "<div>\n",
       "<style scoped>\n",
       "    .dataframe tbody tr th:only-of-type {\n",
       "        vertical-align: middle;\n",
       "    }\n",
       "\n",
       "    .dataframe tbody tr th {\n",
       "        vertical-align: top;\n",
       "    }\n",
       "\n",
       "    .dataframe thead th {\n",
       "        text-align: right;\n",
       "    }\n",
       "</style>\n",
       "<table border=\"1\" class=\"dataframe\">\n",
       "  <thead>\n",
       "    <tr style=\"text-align: right;\">\n",
       "      <th></th>\n",
       "      <th>analytics_matchkey</th>\n",
       "      <th>max_loan_amount</th>\n",
       "      <th>late_30_days</th>\n",
       "      <th>late_60_days</th>\n",
       "      <th>late_90_days</th>\n",
       "    </tr>\n",
       "  </thead>\n",
       "  <tbody>\n",
       "    <tr>\n",
       "      <th>0</th>\n",
       "      <td>1346745</td>\n",
       "      <td>2500</td>\n",
       "      <td>0</td>\n",
       "      <td>0</td>\n",
       "      <td>0</td>\n",
       "    </tr>\n",
       "    <tr>\n",
       "      <th>1</th>\n",
       "      <td>1346746</td>\n",
       "      <td>1000</td>\n",
       "      <td>0</td>\n",
       "      <td>0</td>\n",
       "      <td>0</td>\n",
       "    </tr>\n",
       "    <tr>\n",
       "      <th>2</th>\n",
       "      <td>1346747</td>\n",
       "      <td>1002</td>\n",
       "      <td>0</td>\n",
       "      <td>0</td>\n",
       "      <td>0</td>\n",
       "    </tr>\n",
       "    <tr>\n",
       "      <th>3</th>\n",
       "      <td>1346748</td>\n",
       "      <td>1500</td>\n",
       "      <td>0</td>\n",
       "      <td>0</td>\n",
       "      <td>0</td>\n",
       "    </tr>\n",
       "    <tr>\n",
       "      <th>4</th>\n",
       "      <td>1346749</td>\n",
       "      <td>1675</td>\n",
       "      <td>0</td>\n",
       "      <td>0</td>\n",
       "      <td>0</td>\n",
       "    </tr>\n",
       "    <tr>\n",
       "      <th>...</th>\n",
       "      <td>...</td>\n",
       "      <td>...</td>\n",
       "      <td>...</td>\n",
       "      <td>...</td>\n",
       "      <td>...</td>\n",
       "    </tr>\n",
       "    <tr>\n",
       "      <th>646122</th>\n",
       "      <td>1992904</td>\n",
       "      <td>1671</td>\n",
       "      <td>0</td>\n",
       "      <td>0</td>\n",
       "      <td>0</td>\n",
       "    </tr>\n",
       "    <tr>\n",
       "      <th>646123</th>\n",
       "      <td>1992905</td>\n",
       "      <td>2000</td>\n",
       "      <td>0</td>\n",
       "      <td>0</td>\n",
       "      <td>0</td>\n",
       "    </tr>\n",
       "    <tr>\n",
       "      <th>646124</th>\n",
       "      <td>1992906</td>\n",
       "      <td>1400</td>\n",
       "      <td>1</td>\n",
       "      <td>1</td>\n",
       "      <td>1</td>\n",
       "    </tr>\n",
       "    <tr>\n",
       "      <th>646125</th>\n",
       "      <td>1992907</td>\n",
       "      <td>3000</td>\n",
       "      <td>1</td>\n",
       "      <td>1</td>\n",
       "      <td>1</td>\n",
       "    </tr>\n",
       "    <tr>\n",
       "      <th>646126</th>\n",
       "      <td>1992908</td>\n",
       "      <td>1000</td>\n",
       "      <td>0</td>\n",
       "      <td>0</td>\n",
       "      <td>0</td>\n",
       "    </tr>\n",
       "  </tbody>\n",
       "</table>\n",
       "<p>646127 rows × 5 columns</p>\n",
       "</div>"
      ],
      "text/plain": [
       "        analytics_matchkey  max_loan_amount  late_30_days  late_60_days  \\\n",
       "0                  1346745             2500             0             0   \n",
       "1                  1346746             1000             0             0   \n",
       "2                  1346747             1002             0             0   \n",
       "3                  1346748             1500             0             0   \n",
       "4                  1346749             1675             0             0   \n",
       "...                    ...              ...           ...           ...   \n",
       "646122             1992904             1671             0             0   \n",
       "646123             1992905             2000             0             0   \n",
       "646124             1992906             1400             1             1   \n",
       "646125             1992907             3000             1             1   \n",
       "646126             1992908             1000             0             0   \n",
       "\n",
       "        late_90_days  \n",
       "0                  0  \n",
       "1                  0  \n",
       "2                  0  \n",
       "3                  0  \n",
       "4                  0  \n",
       "...              ...  \n",
       "646122             0  \n",
       "646123             0  \n",
       "646124             1  \n",
       "646125             1  \n",
       "646126             0  \n",
       "\n",
       "[646127 rows x 5 columns]"
      ]
     },
     "execution_count": 9,
     "metadata": {},
     "output_type": "execute_result"
    }
   ],
   "source": [
    "loan.sort_values(by = 'analytics_matchkey')"
   ]
  },
  {
   "cell_type": "code",
   "execution_count": 10,
   "id": "a714a8ad-e140-406c-933e-0d7e48ae7299",
   "metadata": {
    "scrolled": true
   },
   "outputs": [
    {
     "name": "stdout",
     "output_type": "stream",
     "text": [
      "0 0 0\n"
     ]
    }
   ],
   "source": [
    "print(\n",
    "    len(loan[loan.late_90_days > loan.late_60_days]), \n",
    "    len(loan[loan.late_60_days > loan.late_30_days]),\n",
    "    len(loan[loan.late_90_days > loan.late_30_days])\n",
    ")"
   ]
  },
  {
   "cell_type": "markdown",
   "id": "99b490a7-0918-4b54-ac71-49ba7b6c20aa",
   "metadata": {},
   "source": [
    "### 2.  Analysis"
   ]
  },
  {
   "cell_type": "code",
   "execution_count": 11,
   "id": "aeee9d01-ba7c-4a49-8615-02c327d04198",
   "metadata": {
    "scrolled": true
   },
   "outputs": [
    {
     "data": {
      "text/html": [
       "<div>\n",
       "<style scoped>\n",
       "    .dataframe tbody tr th:only-of-type {\n",
       "        vertical-align: middle;\n",
       "    }\n",
       "\n",
       "    .dataframe tbody tr th {\n",
       "        vertical-align: top;\n",
       "    }\n",
       "\n",
       "    .dataframe thead th {\n",
       "        text-align: right;\n",
       "    }\n",
       "</style>\n",
       "<table border=\"1\" class=\"dataframe\">\n",
       "  <thead>\n",
       "    <tr style=\"text-align: right;\">\n",
       "      <th></th>\n",
       "      <th>max_loan_amount</th>\n",
       "      <th>late_30_days</th>\n",
       "      <th>late_60_days</th>\n",
       "      <th>late_90_days</th>\n",
       "    </tr>\n",
       "  </thead>\n",
       "  <tbody>\n",
       "    <tr>\n",
       "      <th>max_loan_amount</th>\n",
       "      <td>1.000000</td>\n",
       "      <td>-0.009254</td>\n",
       "      <td>-0.010001</td>\n",
       "      <td>-0.009392</td>\n",
       "    </tr>\n",
       "    <tr>\n",
       "      <th>late_30_days</th>\n",
       "      <td>-0.009254</td>\n",
       "      <td>1.000000</td>\n",
       "      <td>0.853386</td>\n",
       "      <td>0.801265</td>\n",
       "    </tr>\n",
       "    <tr>\n",
       "      <th>late_60_days</th>\n",
       "      <td>-0.010001</td>\n",
       "      <td>0.853386</td>\n",
       "      <td>1.000000</td>\n",
       "      <td>0.938924</td>\n",
       "    </tr>\n",
       "    <tr>\n",
       "      <th>late_90_days</th>\n",
       "      <td>-0.009392</td>\n",
       "      <td>0.801265</td>\n",
       "      <td>0.938924</td>\n",
       "      <td>1.000000</td>\n",
       "    </tr>\n",
       "  </tbody>\n",
       "</table>\n",
       "</div>"
      ],
      "text/plain": [
       "                 max_loan_amount  late_30_days  late_60_days  late_90_days\n",
       "max_loan_amount         1.000000     -0.009254     -0.010001     -0.009392\n",
       "late_30_days           -0.009254      1.000000      0.853386      0.801265\n",
       "late_60_days           -0.010001      0.853386      1.000000      0.938924\n",
       "late_90_days           -0.009392      0.801265      0.938924      1.000000"
      ]
     },
     "execution_count": 11,
     "metadata": {},
     "output_type": "execute_result"
    }
   ],
   "source": [
    "corr = loan[['max_loan_amount', 'late_30_days', 'late_60_days', 'late_90_days']].corr()\n",
    "corr"
   ]
  },
  {
   "cell_type": "code",
   "execution_count": 137,
   "id": "7974dc09-71ba-4ee0-813f-586a68071c2a",
   "metadata": {},
   "outputs": [
    {
     "data": {
      "text/plain": [
       "<Axes: xlabel='max_loan_amount', ylabel='Count'>"
      ]
     },
     "execution_count": 137,
     "metadata": {},
     "output_type": "execute_result"
    },
    {
     "data": {
      "image/png": "[encoded data removed]",
      "text/plain": [
       "<Figure size 1200x500 with 2 Axes>"
      ]
     },
     "metadata": {},
     "output_type": "display_data"
    }
   ],
   "source": [
    "fig, axes = plt.subplots(1,2, figsize = (12, 5))\n",
    "sns.kdeplot(loan.max_loan_amount, ax = axes[0])\n",
    "sns.histplot(loan.max_loan_amount, ax = axes[1])"
   ]
  },
  {
   "cell_type": "code",
   "execution_count": 13,
   "id": "10871622-968f-44f0-b6b7-0f2d6f22265b",
   "metadata": {},
   "outputs": [],
   "source": [
    "def late_proportion(df, late, ax):\n",
    "    #graphs a barplot that shows the fraction of missed payments of a chosen category/categories to all the loans made in the dataset df\n",
    "    proportion = (df[late].sum()/len(df)).reset_index()\n",
    "    proportion.columns = ['late_days', 'late_per_loan']\n",
    "    bplot = sns.barplot(data=proportion, \n",
    "                x='late_days', \n",
    "                y='late_per_loan',\n",
    "                width = 0.4,\n",
    "                ax = ax\n",
    "                )\n",
    "    bplot.bar_label(bplot.containers[0], fmt='%.3f')\n",
    "    return bplot"
   ]
  },
  {
   "cell_type": "code",
   "execution_count": 14,
   "id": "38d5a5ce-c0db-4185-a76f-bc57e06d2e66",
   "metadata": {
    "scrolled": true
   },
   "outputs": [],
   "source": [
    "loan_D = loan[:]\n",
    "loan_D['late_between_30_and_60'] =  loan['late_30_days'] - loan['late_60_days']\n",
    "loan_D['late_between_60_and_90'] = loan['late_60_days'] - loan['late_90_days']"
   ]
  },
  {
   "cell_type": "code",
   "execution_count": 16,
   "id": "1ed1fa5f-1891-43ec-b817-0924b0813511",
   "metadata": {},
   "outputs": [
    {
     "data": {
      "text/plain": [
       "(0.0, 0.1)"
      ]
     },
     "execution_count": 16,
     "metadata": {},
     "output_type": "execute_result"
    },
    {
     "data": {
      "image/png": "[encoded data removed]",
      "text/plain": [
       "<Figure size 700x500 with 1 Axes>"
      ]
     },
     "metadata": {},
     "output_type": "display_data"
    }
   ],
   "source": [
    "figure(figsize = (7, 5))\n",
    "late_proportion(loan_D, ['late_between_30_and_60', 'late_between_60_and_90', 'late_90_days'], ax = plt.gca())\n",
    "plt.gca().set_ylim(0, 0.1) "
   ]
  },
  {
   "cell_type": "markdown",
   "id": "5fbe9abf-4346-41dc-aeae-794e776a50f8",
   "metadata": {},
   "source": [
    "given that the payment is late by at least 30 days, what's the propbability that it is:\n",
    "  - late_between_30_and_60\n",
    "   - late_between_60_and_90\n",
    "   - late_90_days\n",
    "\n",
    "I will define a function that graphs PDFs of the r.v. L(S= {late_between_30_60, late_between_60_90, late_90+}, which will be helpful when applying filters from public records"
   ]
  },
  {
   "cell_type": "code",
   "execution_count": 23,
   "id": "d8f68474-bc23-4c98-b7c3-86aeb1039f35",
   "metadata": {},
   "outputs": [],
   "source": [
    "def if_late_how(df, late, ax, graph):\n",
    "    how_late = (df[late].sum()/df['late_30_days'].sum()).reset_index()\n",
    "    how_late.columns = ['late_days', 'if_late_how_long']\n",
    "    if not graph:\n",
    "        return how_late\n",
    "    late_plot = sns.barplot(data=how_late, \n",
    "                            x='late_days', \n",
    "                            y='if_late_how_long',\n",
    "                            width = 0.4,\n",
    "                            ax = ax\n",
    "                            )\n",
    "    late_plot.bar_label(late_plot.containers[0], fmt='%.2f')"
   ]
  },
  {
   "cell_type": "code",
   "execution_count": 31,
   "id": "09caffa8-10e5-4217-a0c7-06ad76f2db25",
   "metadata": {},
   "outputs": [
    {
     "data": {
      "image/png": "[encoded data removed]",
      "text/plain": [
       "<Figure size 1400x500 with 2 Axes>"
      ]
     },
     "metadata": {},
     "output_type": "display_data"
    }
   ],
   "source": [
    "fig, axes = plt.subplots(1,2, figsize = (14, 5))\n",
    "plt.rcParams.update({'font.size': 7})\n",
    "late_proportion(loan_D, ['late_between_30_and_60', 'late_between_60_and_90', 'late_90_days'], axes[0])\n",
    "if_late_how(loan_D, ['late_between_30_and_60', 'late_between_60_and_90', 'late_90_days'], axes[1], True)"
   ]
  },
  {
   "cell_type": "markdown",
   "id": "fef7d256-0d14-419b-95aa-756691c287f9",
   "metadata": {},
   "source": [
    "25% of late pmts are 30-60 days late (75% of late pmts are more than 30 days late)  \n",
    "8% of late pmts are 60-90 days late (33% of late pmts are no later than 90 days)  \n",
    "67% of late pmtrs are more than 90 days late"
   ]
  },
  {
   "cell_type": "markdown",
   "id": "a4623d3d-03f7-466b-b41b-97b7f2760e37",
   "metadata": {},
   "source": [
    "late 90 days is of interest in here, because in most cases, after you've missed 90 days of loan pmts, the lender considers you to be in default"
   ]
  },
  {
   "cell_type": "code",
   "execution_count": 138,
   "id": "2a487597-104c-4da4-b3f0-aa3275a178c6",
   "metadata": {},
   "outputs": [
    {
     "data": {
      "text/plain": [
       "<Axes: xlabel='max_loan_amount', ylabel='Count'>"
      ]
     },
     "execution_count": 138,
     "metadata": {},
     "output_type": "execute_result"
    },
    {
     "data": {
      "image/png": "[encoded data removed]",
      "text/plain": [
       "<Figure size 640x480 with 1 Axes>"
      ]
     },
     "metadata": {},
     "output_type": "display_data"
    }
   ],
   "source": [
    "sns.histplot(loan_D.max_loan_amount)"
   ]
  },
  {
   "cell_type": "code",
   "execution_count": 26,
   "id": "accbe6a0-2ac3-43b7-a93a-4d0eb1211572",
   "metadata": {
    "jupyter": {
     "source_hidden": true
    }
   },
   "outputs": [
    {
     "data": {
      "image/png": "[encoded data removed]",
      "text/plain": [
       "<Figure size 2000x500 with 3 Axes>"
      ]
     },
     "metadata": {},
     "output_type": "display_data"
    }
   ],
   "source": [
    "fig, ax = plt.subplots(1, 3, figsize = (20, 5))\n",
    "ax[0].hist(loan_D[loan_D['late_between_30_and_60'] ==1]['max_loan_amount'], bins = 400)\n",
    "ax[0].set_title('late between 30 and 60')\n",
    "ax[1].hist(loan_D[loan_D['late_between_60_and_90'] ==1]['max_loan_amount'], bins = 400)\n",
    "ax[1].set_title('late between 60 and 90')\n",
    "ax[2].hist(loan_D[loan_D['late_90_days'] ==1]['max_loan_amount'], bins = 400)\n",
    "ax[2].set_title('late 90 days')\n",
    "plt.show()"
   ]
  },
  {
   "cell_type": "markdown",
   "id": "5cd1f7b5-9732-46a5-a322-28a2c2509316",
   "metadata": {},
   "source": [
    "1400 looks very suspicious, because there are a lot of missed pmts at 90 days"
   ]
  },
  {
   "cell_type": "code",
   "execution_count": 27,
   "id": "a5976af4-ac28-434a-8386-37c87071639a",
   "metadata": {},
   "outputs": [
    {
     "data": {
      "text/plain": [
       "(8497, 7)"
      ]
     },
     "execution_count": 27,
     "metadata": {},
     "output_type": "execute_result"
    }
   ],
   "source": [
    "loan1400 = loan_D.query('max_loan_amount == 1400')\n",
    "loan1400.shape"
   ]
  },
  {
   "cell_type": "code",
   "execution_count": 30,
   "id": "3d62c86e-ea9b-4b1d-9b9c-e74cb77b1759",
   "metadata": {},
   "outputs": [
    {
     "data": {
      "image/png": "[encoded data removed]",
      "text/plain": [
       "<Figure size 1400x500 with 2 Axes>"
      ]
     },
     "metadata": {},
     "output_type": "display_data"
    }
   ],
   "source": [
    "fig, axes = plt.subplots(1,2, figsize = (14, 5))\n",
    "plt.rcParams.update({'font.size': 7})\n",
    "late_proportion(loan1400, ['late_between_30_and_60', 'late_between_60_and_90', 'late_90_days'], axes[0])\n",
    "if_late_how(loan1400, ['late_between_30_and_60', 'late_between_60_and_90', 'late_90_days'], axes[1], True)"
   ]
  },
  {
   "cell_type": "markdown",
   "id": "bd0645bb-3d9f-4da0-a281-d094db9fd439",
   "metadata": {},
   "source": [
    "Summary;\n",
    "Conclusions"
   ]
  },
  {
   "cell_type": "markdown",
   "id": "a464d55c-47a6-4fcc-8bee-5fbb120ede83",
   "metadata": {},
   "source": [
    "# Public Records"
   ]
  },
  {
   "cell_type": "code",
   "execution_count": 4,
   "id": "20bd1586-52f6-453b-979b-43dd5df2850f",
   "metadata": {},
   "outputs": [
    {
     "data": {
      "text/html": [
       "<div>\n",
       "<style scoped>\n",
       "    .dataframe tbody tr th:only-of-type {\n",
       "        vertical-align: middle;\n",
       "    }\n",
       "\n",
       "    .dataframe tbody tr th {\n",
       "        vertical-align: top;\n",
       "    }\n",
       "\n",
       "    .dataframe thead th {\n",
       "        text-align: right;\n",
       "    }\n",
       "</style>\n",
       "<table border=\"1\" class=\"dataframe\">\n",
       "  <thead>\n",
       "    <tr style=\"text-align: right;\">\n",
       "      <th></th>\n",
       "      <th>Variable Name:</th>\n",
       "      <th>Description:</th>\n",
       "      <th>Format:</th>\n",
       "      <th>Len:</th>\n",
       "      <th>Start Pos:</th>\n",
       "      <th>End Pos:</th>\n",
       "      <th>Mask:</th>\n",
       "      <th>Mask Length:</th>\n",
       "      <th>Mask Char:</th>\n",
       "      <th>Blank</th>\n",
       "    </tr>\n",
       "  </thead>\n",
       "  <tbody>\n",
       "    <tr>\n",
       "      <th>0</th>\n",
       "      <td>Analytics Matchkey</td>\n",
       "      <td>Unique customer identifier</td>\n",
       "      <td>NaN</td>\n",
       "      <td>NaN</td>\n",
       "      <td>NaN</td>\n",
       "      <td>NaN</td>\n",
       "      <td>NaN</td>\n",
       "      <td>NaN</td>\n",
       "      <td>NaN</td>\n",
       "      <td>NaN</td>\n",
       "    </tr>\n",
       "    <tr>\n",
       "      <th>1</th>\n",
       "      <td>Record Type</td>\n",
       "      <td>Code identifying record type</td>\n",
       "      <td>NaN</td>\n",
       "      <td>2.0</td>\n",
       "      <td>1.0</td>\n",
       "      <td>2.0</td>\n",
       "      <td></td>\n",
       "      <td></td>\n",
       "      <td></td>\n",
       "      <td></td>\n",
       "    </tr>\n",
       "    <tr>\n",
       "      <th>2</th>\n",
       "      <td>Sequence Number</td>\n",
       "      <td>First 10 bytes is the number assigned to a con...</td>\n",
       "      <td>NaN</td>\n",
       "      <td>12.0</td>\n",
       "      <td>3.0</td>\n",
       "      <td>14.0</td>\n",
       "      <td></td>\n",
       "      <td></td>\n",
       "      <td></td>\n",
       "      <td></td>\n",
       "    </tr>\n",
       "    <tr>\n",
       "      <th>3</th>\n",
       "      <td>Industry Code (Kind of Business)</td>\n",
       "      <td>A code used to categorize subscribers by their...</td>\n",
       "      <td>NaN</td>\n",
       "      <td>2.0</td>\n",
       "      <td>15.0</td>\n",
       "      <td>16.0</td>\n",
       "      <td></td>\n",
       "      <td></td>\n",
       "      <td></td>\n",
       "      <td></td>\n",
       "    </tr>\n",
       "    <tr>\n",
       "      <th>4</th>\n",
       "      <td>Reporting Subscriber Code</td>\n",
       "      <td>Internal trade line identifier.  The first 4 b...</td>\n",
       "      <td>NaN</td>\n",
       "      <td>7.0</td>\n",
       "      <td>17.0</td>\n",
       "      <td>23.0</td>\n",
       "      <td>left</td>\n",
       "      <td>4</td>\n",
       "      <td></td>\n",
       "      <td>Y</td>\n",
       "    </tr>\n",
       "    <tr>\n",
       "      <th>5</th>\n",
       "      <td>Public Record Type Code</td>\n",
       "      <td>Identifies the type of public record.</td>\n",
       "      <td>NaN</td>\n",
       "      <td>2.0</td>\n",
       "      <td>24.0</td>\n",
       "      <td>25.0</td>\n",
       "      <td></td>\n",
       "      <td></td>\n",
       "      <td></td>\n",
       "      <td></td>\n",
       "    </tr>\n",
       "    <tr>\n",
       "      <th>6</th>\n",
       "      <td>Effective Date (Date Verified)</td>\n",
       "      <td>Date when the Reporting Subscriber took cogniz...</td>\n",
       "      <td>YYYYMMDD</td>\n",
       "      <td>8.0</td>\n",
       "      <td>26.0</td>\n",
       "      <td>33.0</td>\n",
       "      <td></td>\n",
       "      <td></td>\n",
       "      <td></td>\n",
       "      <td></td>\n",
       "    </tr>\n",
       "    <tr>\n",
       "      <th>7</th>\n",
       "      <td>Filed Date</td>\n",
       "      <td>Date when the Record became officially public.</td>\n",
       "      <td>YYYYMMDD</td>\n",
       "      <td>8.0</td>\n",
       "      <td>34.0</td>\n",
       "      <td>41.0</td>\n",
       "      <td></td>\n",
       "      <td></td>\n",
       "      <td></td>\n",
       "      <td></td>\n",
       "    </tr>\n",
       "    <tr>\n",
       "      <th>8</th>\n",
       "      <td>Paid Date</td>\n",
       "      <td>Displays the date the subject paid the assesse...</td>\n",
       "      <td>YYYYMMDD</td>\n",
       "      <td>8.0</td>\n",
       "      <td>42.0</td>\n",
       "      <td>49.0</td>\n",
       "      <td></td>\n",
       "      <td></td>\n",
       "      <td></td>\n",
       "      <td></td>\n",
       "    </tr>\n",
       "    <tr>\n",
       "      <th>9</th>\n",
       "      <td>Amount</td>\n",
       "      <td>Displays the original amount in the case.</td>\n",
       "      <td>NaN</td>\n",
       "      <td>9.0</td>\n",
       "      <td>50.0</td>\n",
       "      <td>58.0</td>\n",
       "      <td></td>\n",
       "      <td></td>\n",
       "      <td></td>\n",
       "      <td></td>\n",
       "    </tr>\n",
       "    <tr>\n",
       "      <th>10</th>\n",
       "      <td>Public Record Source Type Code</td>\n",
       "      <td>Identifies the source (court) of this case inf...</td>\n",
       "      <td>NaN</td>\n",
       "      <td>2.0</td>\n",
       "      <td>59.0</td>\n",
       "      <td>60.0</td>\n",
       "      <td></td>\n",
       "      <td></td>\n",
       "      <td></td>\n",
       "      <td></td>\n",
       "    </tr>\n",
       "    <tr>\n",
       "      <th>11</th>\n",
       "      <td>Equal Credit Opportunity Act Code</td>\n",
       "      <td>Displays the contractual ownership of the publ...</td>\n",
       "      <td>NaN</td>\n",
       "      <td>1.0</td>\n",
       "      <td>61.0</td>\n",
       "      <td>61.0</td>\n",
       "      <td></td>\n",
       "      <td></td>\n",
       "      <td></td>\n",
       "      <td></td>\n",
       "    </tr>\n",
       "    <tr>\n",
       "      <th>12</th>\n",
       "      <td>Legislative Prohibited Code</td>\n",
       "      <td>Identifies if the account is Medical related.</td>\n",
       "      <td>NaN</td>\n",
       "      <td>2.0</td>\n",
       "      <td>62.0</td>\n",
       "      <td>63.0</td>\n",
       "      <td></td>\n",
       "      <td></td>\n",
       "      <td></td>\n",
       "      <td></td>\n",
       "    </tr>\n",
       "    <tr>\n",
       "      <th>13</th>\n",
       "      <td>Plaintiff Name</td>\n",
       "      <td>Plaintiff Name</td>\n",
       "      <td>NaN</td>\n",
       "      <td>36.0</td>\n",
       "      <td>64.0</td>\n",
       "      <td>99.0</td>\n",
       "      <td>left</td>\n",
       "      <td>36</td>\n",
       "      <td></td>\n",
       "      <td>Y</td>\n",
       "    </tr>\n",
       "    <tr>\n",
       "      <th>14</th>\n",
       "      <td>Attorney Name</td>\n",
       "      <td>Attorney Name</td>\n",
       "      <td>NaN</td>\n",
       "      <td>38.0</td>\n",
       "      <td>100.0</td>\n",
       "      <td>137.0</td>\n",
       "      <td>left</td>\n",
       "      <td>38</td>\n",
       "      <td></td>\n",
       "      <td>Y</td>\n",
       "    </tr>\n",
       "    <tr>\n",
       "      <th>15</th>\n",
       "      <td>Docket Number</td>\n",
       "      <td>Docket Number</td>\n",
       "      <td>NaN</td>\n",
       "      <td>30.0</td>\n",
       "      <td>138.0</td>\n",
       "      <td>167.0</td>\n",
       "      <td>left</td>\n",
       "      <td>30</td>\n",
       "      <td></td>\n",
       "      <td>Y</td>\n",
       "    </tr>\n",
       "  </tbody>\n",
       "</table>\n",
       "</div>"
      ],
      "text/plain": [
       "                       Variable Name:  \\\n",
       "0                  Analytics Matchkey   \n",
       "1                         Record Type   \n",
       "2                     Sequence Number   \n",
       "3    Industry Code (Kind of Business)   \n",
       "4           Reporting Subscriber Code   \n",
       "5             Public Record Type Code   \n",
       "6      Effective Date (Date Verified)   \n",
       "7                          Filed Date   \n",
       "8                           Paid Date   \n",
       "9                              Amount   \n",
       "10     Public Record Source Type Code   \n",
       "11  Equal Credit Opportunity Act Code   \n",
       "12        Legislative Prohibited Code   \n",
       "13                     Plaintiff Name   \n",
       "14                      Attorney Name   \n",
       "15                      Docket Number   \n",
       "\n",
       "                                         Description:   Format:  Len:  \\\n",
       "0                          Unique customer identifier       NaN   NaN   \n",
       "1                       Code identifying record type        NaN   2.0   \n",
       "2   First 10 bytes is the number assigned to a con...       NaN  12.0   \n",
       "3   A code used to categorize subscribers by their...       NaN   2.0   \n",
       "4   Internal trade line identifier.  The first 4 b...       NaN   7.0   \n",
       "5             Identifies the type of public record.         NaN   2.0   \n",
       "6   Date when the Reporting Subscriber took cogniz...  YYYYMMDD   8.0   \n",
       "7      Date when the Record became officially public.  YYYYMMDD   8.0   \n",
       "8   Displays the date the subject paid the assesse...  YYYYMMDD   8.0   \n",
       "9           Displays the original amount in the case.       NaN   9.0   \n",
       "10  Identifies the source (court) of this case inf...       NaN   2.0   \n",
       "11  Displays the contractual ownership of the publ...       NaN   1.0   \n",
       "12   Identifies if the account is Medical related.          NaN   2.0   \n",
       "13                                     Plaintiff Name       NaN  36.0   \n",
       "14                                      Attorney Name       NaN  38.0   \n",
       "15                                      Docket Number       NaN  30.0   \n",
       "\n",
       "    Start Pos:  End Pos: Mask: Mask Length: Mask Char: Blank  \n",
       "0          NaN       NaN   NaN          NaN        NaN   NaN  \n",
       "1          1.0       2.0                                      \n",
       "2          3.0      14.0                                      \n",
       "3         15.0      16.0                                      \n",
       "4         17.0      23.0  left            4                Y  \n",
       "5         24.0      25.0                                      \n",
       "6         26.0      33.0                                      \n",
       "7         34.0      41.0                                      \n",
       "8         42.0      49.0                                      \n",
       "9         50.0      58.0                                      \n",
       "10        59.0      60.0                                      \n",
       "11        61.0      61.0                                      \n",
       "12        62.0      63.0                                      \n",
       "13        64.0      99.0  left           36                Y  \n",
       "14       100.0     137.0  left           38                Y  \n",
       "15       138.0     167.0  left           30                Y  "
      ]
     },
     "execution_count": 4,
     "metadata": {},
     "output_type": "execute_result"
    }
   ],
   "source": [
    "dictionary['Public Records Dictionary']"
   ]
  },
  {
   "cell_type": "code",
   "execution_count": 5,
   "id": "fd9eff72-c63d-4bb8-88b5-cc2be9ab3107",
   "metadata": {},
   "outputs": [],
   "source": [
    "public = pd.read_csv('../Data_project/Public_records.csv')"
   ]
  },
  {
   "cell_type": "code",
   "execution_count": 6,
   "id": "b78ba32d-0934-4895-8853-a274dcb05c7c",
   "metadata": {},
   "outputs": [
    {
     "data": {
      "text/html": [
       "<div>\n",
       "<style scoped>\n",
       "    .dataframe tbody tr th:only-of-type {\n",
       "        vertical-align: middle;\n",
       "    }\n",
       "\n",
       "    .dataframe tbody tr th {\n",
       "        vertical-align: top;\n",
       "    }\n",
       "\n",
       "    .dataframe thead th {\n",
       "        text-align: right;\n",
       "    }\n",
       "</style>\n",
       "<table border=\"1\" class=\"dataframe\">\n",
       "  <thead>\n",
       "    <tr style=\"text-align: right;\">\n",
       "      <th></th>\n",
       "      <th>analytics_matchkey</th>\n",
       "      <th>industry_code_kind_of_business</th>\n",
       "      <th>reporting_subscriber_code</th>\n",
       "      <th>public_record_type_code</th>\n",
       "      <th>effective_date_date_verified</th>\n",
       "      <th>filed_date</th>\n",
       "      <th>paid_date</th>\n",
       "      <th>amount</th>\n",
       "      <th>public_record_source_type_code</th>\n",
       "      <th>equal_credit_opportunity_act_code</th>\n",
       "      <th>legislative_prohibited_code</th>\n",
       "      <th>plaintiff_name</th>\n",
       "      <th>attorney_name</th>\n",
       "      <th>docket_number</th>\n",
       "    </tr>\n",
       "  </thead>\n",
       "  <tbody>\n",
       "    <tr>\n",
       "      <th>0</th>\n",
       "      <td>1346747</td>\n",
       "      <td>ZP</td>\n",
       "      <td>99</td>\n",
       "      <td>CJ</td>\n",
       "      <td>20130604.0</td>\n",
       "      <td>20130129</td>\n",
       "      <td>NaN</td>\n",
       "      <td>1209.0</td>\n",
       "      <td>CI</td>\n",
       "      <td>I</td>\n",
       "      <td>1</td>\n",
       "      <td>NaN</td>\n",
       "      <td>NaN</td>\n",
       "      <td>NaN</td>\n",
       "    </tr>\n",
       "    <tr>\n",
       "      <th>1</th>\n",
       "      <td>1346748</td>\n",
       "      <td>ZP</td>\n",
       "      <td>485</td>\n",
       "      <td>7X</td>\n",
       "      <td>20140925.0</td>\n",
       "      <td>20140506</td>\n",
       "      <td>20140924.0</td>\n",
       "      <td>NaN</td>\n",
       "      <td>FE</td>\n",
       "      <td>I</td>\n",
       "      <td>1</td>\n",
       "      <td>NaN</td>\n",
       "      <td>NaN</td>\n",
       "      <td>NaN</td>\n",
       "    </tr>\n",
       "    <tr>\n",
       "      <th>2</th>\n",
       "      <td>1346754</td>\n",
       "      <td>Z</td>\n",
       "      <td>11R</td>\n",
       "      <td>SL</td>\n",
       "      <td>20120124.0</td>\n",
       "      <td>20110405</td>\n",
       "      <td>NaN</td>\n",
       "      <td>2248.0</td>\n",
       "      <td>RD</td>\n",
       "      <td>I</td>\n",
       "      <td>1</td>\n",
       "      <td>NaN</td>\n",
       "      <td>NaN</td>\n",
       "      <td>NaN</td>\n",
       "    </tr>\n",
       "    <tr>\n",
       "      <th>3</th>\n",
       "      <td>1346754</td>\n",
       "      <td>ZP</td>\n",
       "      <td>1</td>\n",
       "      <td>7X</td>\n",
       "      <td>20130129.0</td>\n",
       "      <td>20120928</td>\n",
       "      <td>20130128.0</td>\n",
       "      <td>NaN</td>\n",
       "      <td>FE</td>\n",
       "      <td>C</td>\n",
       "      <td>1</td>\n",
       "      <td>NaN</td>\n",
       "      <td>NaN</td>\n",
       "      <td>NaN</td>\n",
       "    </tr>\n",
       "    <tr>\n",
       "      <th>4</th>\n",
       "      <td>1346756</td>\n",
       "      <td>ZP</td>\n",
       "      <td>1</td>\n",
       "      <td>RL</td>\n",
       "      <td>20140913.0</td>\n",
       "      <td>20070202</td>\n",
       "      <td>20140801.0</td>\n",
       "      <td>406.0</td>\n",
       "      <td>RD</td>\n",
       "      <td>I</td>\n",
       "      <td>1</td>\n",
       "      <td>NaN</td>\n",
       "      <td>NaN</td>\n",
       "      <td>NaN</td>\n",
       "    </tr>\n",
       "  </tbody>\n",
       "</table>\n",
       "</div>"
      ],
      "text/plain": [
       "   analytics_matchkey industry_code_kind_of_business  \\\n",
       "0             1346747                             ZP   \n",
       "1             1346748                             ZP   \n",
       "2             1346754                              Z   \n",
       "3             1346754                             ZP   \n",
       "4             1346756                             ZP   \n",
       "\n",
       "  reporting_subscriber_code public_record_type_code  \\\n",
       "0                        99                      CJ   \n",
       "1                       485                      7X   \n",
       "2                       11R                      SL   \n",
       "3                         1                      7X   \n",
       "4                         1                      RL   \n",
       "\n",
       "   effective_date_date_verified  filed_date   paid_date  amount  \\\n",
       "0                    20130604.0    20130129         NaN  1209.0   \n",
       "1                    20140925.0    20140506  20140924.0     NaN   \n",
       "2                    20120124.0    20110405         NaN  2248.0   \n",
       "3                    20130129.0    20120928  20130128.0     NaN   \n",
       "4                    20140913.0    20070202  20140801.0   406.0   \n",
       "\n",
       "  public_record_source_type_code equal_credit_opportunity_act_code  \\\n",
       "0                             CI                                 I   \n",
       "1                             FE                                 I   \n",
       "2                             RD                                 I   \n",
       "3                             FE                                 C   \n",
       "4                             RD                                 I   \n",
       "\n",
       "   legislative_prohibited_code  plaintiff_name  attorney_name  docket_number  \n",
       "0                            1             NaN            NaN            NaN  \n",
       "1                            1             NaN            NaN            NaN  \n",
       "2                            1             NaN            NaN            NaN  \n",
       "3                            1             NaN            NaN            NaN  \n",
       "4                            1             NaN            NaN            NaN  "
      ]
     },
     "execution_count": 6,
     "metadata": {},
     "output_type": "execute_result"
    }
   ],
   "source": [
    "public.head()"
   ]
  },
  {
   "cell_type": "code",
   "execution_count": 7,
   "id": "b178aacf-ec17-462f-a5e1-cbe0deda2c51",
   "metadata": {},
   "outputs": [
    {
     "data": {
      "text/html": [
       "<div>\n",
       "<style scoped>\n",
       "    .dataframe tbody tr th:only-of-type {\n",
       "        vertical-align: middle;\n",
       "    }\n",
       "\n",
       "    .dataframe tbody tr th {\n",
       "        vertical-align: top;\n",
       "    }\n",
       "\n",
       "    .dataframe thead th {\n",
       "        text-align: right;\n",
       "    }\n",
       "</style>\n",
       "<table border=\"1\" class=\"dataframe\">\n",
       "  <thead>\n",
       "    <tr style=\"text-align: right;\">\n",
       "      <th></th>\n",
       "      <th>analytics_matchkey</th>\n",
       "      <th>effective_date_date_verified</th>\n",
       "      <th>filed_date</th>\n",
       "      <th>paid_date</th>\n",
       "      <th>amount</th>\n",
       "      <th>legislative_prohibited_code</th>\n",
       "      <th>plaintiff_name</th>\n",
       "      <th>attorney_name</th>\n",
       "      <th>docket_number</th>\n",
       "    </tr>\n",
       "  </thead>\n",
       "  <tbody>\n",
       "    <tr>\n",
       "      <th>count</th>\n",
       "      <td>218303.00</td>\n",
       "      <td>218018.00</td>\n",
       "      <td>218303.00</td>\n",
       "      <td>129421.00</td>\n",
       "      <td>156792.00</td>\n",
       "      <td>218303.00</td>\n",
       "      <td>0.0</td>\n",
       "      <td>0.0</td>\n",
       "      <td>0.0</td>\n",
       "    </tr>\n",
       "    <tr>\n",
       "      <th>mean</th>\n",
       "      <td>1669626.91</td>\n",
       "      <td>20127969.43</td>\n",
       "      <td>20119092.31</td>\n",
       "      <td>20123806.98</td>\n",
       "      <td>4616.67</td>\n",
       "      <td>1.07</td>\n",
       "      <td>NaN</td>\n",
       "      <td>NaN</td>\n",
       "      <td>NaN</td>\n",
       "    </tr>\n",
       "    <tr>\n",
       "      <th>std</th>\n",
       "      <td>186294.23</td>\n",
       "      <td>22330.04</td>\n",
       "      <td>22517.19</td>\n",
       "      <td>22600.83</td>\n",
       "      <td>41800.84</td>\n",
       "      <td>0.26</td>\n",
       "      <td>NaN</td>\n",
       "      <td>NaN</td>\n",
       "      <td>NaN</td>\n",
       "    </tr>\n",
       "    <tr>\n",
       "      <th>min</th>\n",
       "      <td>1346747.00</td>\n",
       "      <td>20070119.00</td>\n",
       "      <td>20060406.00</td>\n",
       "      <td>20061129.00</td>\n",
       "      <td>0.00</td>\n",
       "      <td>1.00</td>\n",
       "      <td>NaN</td>\n",
       "      <td>NaN</td>\n",
       "      <td>NaN</td>\n",
       "    </tr>\n",
       "    <tr>\n",
       "      <th>25%</th>\n",
       "      <td>1508168.00</td>\n",
       "      <td>20110706.00</td>\n",
       "      <td>20100826.00</td>\n",
       "      <td>20110224.00</td>\n",
       "      <td>644.00</td>\n",
       "      <td>1.00</td>\n",
       "      <td>NaN</td>\n",
       "      <td>NaN</td>\n",
       "      <td>NaN</td>\n",
       "    </tr>\n",
       "    <tr>\n",
       "      <th>50%</th>\n",
       "      <td>1669451.00</td>\n",
       "      <td>20130430.00</td>\n",
       "      <td>20120319.00</td>\n",
       "      <td>20121126.00</td>\n",
       "      <td>1338.00</td>\n",
       "      <td>1.00</td>\n",
       "      <td>NaN</td>\n",
       "      <td>NaN</td>\n",
       "      <td>NaN</td>\n",
       "    </tr>\n",
       "    <tr>\n",
       "      <th>75%</th>\n",
       "      <td>1831498.00</td>\n",
       "      <td>20150224.00</td>\n",
       "      <td>20140213.00</td>\n",
       "      <td>20140812.00</td>\n",
       "      <td>3174.00</td>\n",
       "      <td>1.00</td>\n",
       "      <td>NaN</td>\n",
       "      <td>NaN</td>\n",
       "      <td>NaN</td>\n",
       "    </tr>\n",
       "    <tr>\n",
       "      <th>max</th>\n",
       "      <td>1992902.00</td>\n",
       "      <td>20160929.00</td>\n",
       "      <td>20160927.00</td>\n",
       "      <td>20160928.00</td>\n",
       "      <td>9999999.00</td>\n",
       "      <td>2.00</td>\n",
       "      <td>NaN</td>\n",
       "      <td>NaN</td>\n",
       "      <td>NaN</td>\n",
       "    </tr>\n",
       "  </tbody>\n",
       "</table>\n",
       "</div>"
      ],
      "text/plain": [
       "       analytics_matchkey  effective_date_date_verified   filed_date  \\\n",
       "count           218303.00                     218018.00    218303.00   \n",
       "mean           1669626.91                   20127969.43  20119092.31   \n",
       "std             186294.23                      22330.04     22517.19   \n",
       "min            1346747.00                   20070119.00  20060406.00   \n",
       "25%            1508168.00                   20110706.00  20100826.00   \n",
       "50%            1669451.00                   20130430.00  20120319.00   \n",
       "75%            1831498.00                   20150224.00  20140213.00   \n",
       "max            1992902.00                   20160929.00  20160927.00   \n",
       "\n",
       "         paid_date      amount  legislative_prohibited_code  plaintiff_name  \\\n",
       "count    129421.00   156792.00                    218303.00             0.0   \n",
       "mean   20123806.98     4616.67                         1.07             NaN   \n",
       "std       22600.83    41800.84                         0.26             NaN   \n",
       "min    20061129.00        0.00                         1.00             NaN   \n",
       "25%    20110224.00      644.00                         1.00             NaN   \n",
       "50%    20121126.00     1338.00                         1.00             NaN   \n",
       "75%    20140812.00     3174.00                         1.00             NaN   \n",
       "max    20160928.00  9999999.00                         2.00             NaN   \n",
       "\n",
       "       attorney_name  docket_number  \n",
       "count            0.0            0.0  \n",
       "mean             NaN            NaN  \n",
       "std              NaN            NaN  \n",
       "min              NaN            NaN  \n",
       "25%              NaN            NaN  \n",
       "50%              NaN            NaN  \n",
       "75%              NaN            NaN  \n",
       "max              NaN            NaN  "
      ]
     },
     "execution_count": 7,
     "metadata": {},
     "output_type": "execute_result"
    }
   ],
   "source": [
    "public.describe().round(2)"
   ]
  },
  {
   "cell_type": "code",
   "execution_count": 8,
   "id": "0c5ccc80-4079-4e65-9dfa-007daa3e6692",
   "metadata": {},
   "outputs": [
    {
     "name": "stdout",
     "output_type": "stream",
     "text": [
      "<class 'pandas.core.frame.DataFrame'>\n",
      "RangeIndex: 218303 entries, 0 to 218302\n",
      "Data columns (total 14 columns):\n",
      " #   Column                             Non-Null Count   Dtype  \n",
      "---  ------                             --------------   -----  \n",
      " 0   analytics_matchkey                 218303 non-null  int64  \n",
      " 1   industry_code_kind_of_business     218303 non-null  object \n",
      " 2   reporting_subscriber_code          218303 non-null  object \n",
      " 3   public_record_type_code            218303 non-null  object \n",
      " 4   effective_date_date_verified       218018 non-null  float64\n",
      " 5   filed_date                         218303 non-null  int64  \n",
      " 6   paid_date                          129421 non-null  float64\n",
      " 7   amount                             156792 non-null  float64\n",
      " 8   public_record_source_type_code     218302 non-null  object \n",
      " 9   equal_credit_opportunity_act_code  218303 non-null  object \n",
      " 10  legislative_prohibited_code        218303 non-null  int64  \n",
      " 11  plaintiff_name                     0 non-null       float64\n",
      " 12  attorney_name                      0 non-null       float64\n",
      " 13  docket_number                      0 non-null       float64\n",
      "dtypes: float64(6), int64(3), object(5)\n",
      "memory usage: 23.3+ MB\n"
     ]
    }
   ],
   "source": [
    "public.info()"
   ]
  },
  {
   "cell_type": "markdown",
   "id": "3ee19da1-7798-4f97-8fcd-e11b027eb297",
   "metadata": {},
   "source": [
    "Convert datetime values to appropriate format, delete columns that have no values:"
   ]
  },
  {
   "cell_type": "code",
   "execution_count": 9,
   "id": "74ea88a3-208c-4330-acbe-c4670bd57da1",
   "metadata": {
    "scrolled": true
   },
   "outputs": [],
   "source": [
    "public['filed_date'] = pd.to_datetime(public['filed_date'], format='%Y%m%d')\n",
    "public['effective_date_date_verified'] = pd.to_datetime(public['effective_date_date_verified'], format='%Y%m%d')\n",
    "public['paid_date'] = pd.to_datetime(public['paid_date'], format='%Y%m%d')\n",
    "public = public.drop(['plaintiff_name', 'attorney_name', 'docket_number'], axis = 1)"
   ]
  },
  {
   "cell_type": "markdown",
   "id": "f97b8ea0-0c06-4df7-9220-1d43ef419d6a",
   "metadata": {},
   "source": [
    "**There are some, but not many NA values in effective_date_date_verified and public_record_source_type_code, so it's safe to drop them**"
   ]
  },
  {
   "cell_type": "code",
   "execution_count": 21,
   "id": "1f1fabcc-aa22-41f4-9546-455f63d93ae4",
   "metadata": {},
   "outputs": [
    {
     "data": {
      "text/html": [
       "<div>\n",
       "<style scoped>\n",
       "    .dataframe tbody tr th:only-of-type {\n",
       "        vertical-align: middle;\n",
       "    }\n",
       "\n",
       "    .dataframe tbody tr th {\n",
       "        vertical-align: top;\n",
       "    }\n",
       "\n",
       "    .dataframe thead th {\n",
       "        text-align: right;\n",
       "    }\n",
       "</style>\n",
       "<table border=\"1\" class=\"dataframe\">\n",
       "  <thead>\n",
       "    <tr style=\"text-align: right;\">\n",
       "      <th></th>\n",
       "      <th>analytics_matchkey</th>\n",
       "      <th>industry_code_kind_of_business</th>\n",
       "      <th>reporting_subscriber_code</th>\n",
       "      <th>public_record_type_code</th>\n",
       "      <th>effective_date_date_verified</th>\n",
       "      <th>filed_date</th>\n",
       "      <th>paid_date</th>\n",
       "      <th>amount</th>\n",
       "      <th>public_record_source_type_code</th>\n",
       "      <th>equal_credit_opportunity_act_code</th>\n",
       "      <th>legislative_prohibited_code</th>\n",
       "    </tr>\n",
       "  </thead>\n",
       "  <tbody>\n",
       "    <tr>\n",
       "      <th>3277</th>\n",
       "      <td>1356310</td>\n",
       "      <td>ZP</td>\n",
       "      <td>34</td>\n",
       "      <td>SL</td>\n",
       "      <td>2014-03-08</td>\n",
       "      <td>2014-01-02</td>\n",
       "      <td>NaT</td>\n",
       "      <td>846.0</td>\n",
       "      <td>RD</td>\n",
       "      <td>I</td>\n",
       "      <td>1</td>\n",
       "    </tr>\n",
       "    <tr>\n",
       "      <th>3278</th>\n",
       "      <td>1356310</td>\n",
       "      <td>ZP</td>\n",
       "      <td>34</td>\n",
       "      <td>SL</td>\n",
       "      <td>2014-03-08</td>\n",
       "      <td>2014-01-02</td>\n",
       "      <td>NaT</td>\n",
       "      <td>846.0</td>\n",
       "      <td>RD</td>\n",
       "      <td>I</td>\n",
       "      <td>1</td>\n",
       "    </tr>\n",
       "    <tr>\n",
       "      <th>4521</th>\n",
       "      <td>1359868</td>\n",
       "      <td>Z</td>\n",
       "      <td>11J</td>\n",
       "      <td>SL</td>\n",
       "      <td>2011-07-27</td>\n",
       "      <td>2011-07-21</td>\n",
       "      <td>NaT</td>\n",
       "      <td>2689.0</td>\n",
       "      <td>RD</td>\n",
       "      <td>I</td>\n",
       "      <td>1</td>\n",
       "    </tr>\n",
       "    <tr>\n",
       "      <th>4541</th>\n",
       "      <td>1359869</td>\n",
       "      <td>Z</td>\n",
       "      <td>11J</td>\n",
       "      <td>SL</td>\n",
       "      <td>2011-07-27</td>\n",
       "      <td>2011-07-21</td>\n",
       "      <td>NaT</td>\n",
       "      <td>2689.0</td>\n",
       "      <td>RD</td>\n",
       "      <td>I</td>\n",
       "      <td>1</td>\n",
       "    </tr>\n",
       "    <tr>\n",
       "      <th>6448</th>\n",
       "      <td>1365380</td>\n",
       "      <td>ZP</td>\n",
       "      <td>165</td>\n",
       "      <td>TL</td>\n",
       "      <td>2014-07-09</td>\n",
       "      <td>2014-05-30</td>\n",
       "      <td>NaT</td>\n",
       "      <td>262.0</td>\n",
       "      <td>RD</td>\n",
       "      <td>C</td>\n",
       "      <td>1</td>\n",
       "    </tr>\n",
       "    <tr>\n",
       "      <th>...</th>\n",
       "      <td>...</td>\n",
       "      <td>...</td>\n",
       "      <td>...</td>\n",
       "      <td>...</td>\n",
       "      <td>...</td>\n",
       "      <td>...</td>\n",
       "      <td>...</td>\n",
       "      <td>...</td>\n",
       "      <td>...</td>\n",
       "      <td>...</td>\n",
       "      <td>...</td>\n",
       "    </tr>\n",
       "    <tr>\n",
       "      <th>204133</th>\n",
       "      <td>1949392</td>\n",
       "      <td>Z</td>\n",
       "      <td>406</td>\n",
       "      <td>SL</td>\n",
       "      <td>2014-08-20</td>\n",
       "      <td>2014-07-14</td>\n",
       "      <td>NaT</td>\n",
       "      <td>625.0</td>\n",
       "      <td>RD</td>\n",
       "      <td>I</td>\n",
       "      <td>1</td>\n",
       "    </tr>\n",
       "    <tr>\n",
       "      <th>205148</th>\n",
       "      <td>1952447</td>\n",
       "      <td>ZP</td>\n",
       "      <td>138</td>\n",
       "      <td>RL</td>\n",
       "      <td>2014-10-28</td>\n",
       "      <td>2013-06-20</td>\n",
       "      <td>2014-10-01</td>\n",
       "      <td>1210.0</td>\n",
       "      <td>RD</td>\n",
       "      <td>I</td>\n",
       "      <td>1</td>\n",
       "    </tr>\n",
       "    <tr>\n",
       "      <th>210569</th>\n",
       "      <td>1968879</td>\n",
       "      <td>ZP</td>\n",
       "      <td>490</td>\n",
       "      <td>RL</td>\n",
       "      <td>2011-09-07</td>\n",
       "      <td>2011-01-27</td>\n",
       "      <td>2011-07-29</td>\n",
       "      <td>425.0</td>\n",
       "      <td>RD</td>\n",
       "      <td>I</td>\n",
       "      <td>1</td>\n",
       "    </tr>\n",
       "    <tr>\n",
       "      <th>213138</th>\n",
       "      <td>1977172</td>\n",
       "      <td>ZP</td>\n",
       "      <td>25M</td>\n",
       "      <td>RL</td>\n",
       "      <td>2016-04-17</td>\n",
       "      <td>2014-08-15</td>\n",
       "      <td>2014-08-29</td>\n",
       "      <td>79.0</td>\n",
       "      <td>RD</td>\n",
       "      <td>C</td>\n",
       "      <td>1</td>\n",
       "    </tr>\n",
       "    <tr>\n",
       "      <th>213141</th>\n",
       "      <td>1977172</td>\n",
       "      <td>ZP</td>\n",
       "      <td>25M</td>\n",
       "      <td>RL</td>\n",
       "      <td>2016-04-17</td>\n",
       "      <td>2010-08-26</td>\n",
       "      <td>2011-09-07</td>\n",
       "      <td>53.0</td>\n",
       "      <td>RD</td>\n",
       "      <td>C</td>\n",
       "      <td>1</td>\n",
       "    </tr>\n",
       "  </tbody>\n",
       "</table>\n",
       "<p>126 rows × 11 columns</p>\n",
       "</div>"
      ],
      "text/plain": [
       "        analytics_matchkey industry_code_kind_of_business  \\\n",
       "3277               1356310                             ZP   \n",
       "3278               1356310                             ZP   \n",
       "4521               1359868                              Z   \n",
       "4541               1359869                              Z   \n",
       "6448               1365380                             ZP   \n",
       "...                    ...                            ...   \n",
       "204133             1949392                              Z   \n",
       "205148             1952447                             ZP   \n",
       "210569             1968879                             ZP   \n",
       "213138             1977172                             ZP   \n",
       "213141             1977172                             ZP   \n",
       "\n",
       "       reporting_subscriber_code public_record_type_code  \\\n",
       "3277                          34                      SL   \n",
       "3278                          34                      SL   \n",
       "4521                         11J                      SL   \n",
       "4541                         11J                      SL   \n",
       "6448                         165                      TL   \n",
       "...                          ...                     ...   \n",
       "204133                       406                      SL   \n",
       "205148                       138                      RL   \n",
       "210569                       490                      RL   \n",
       "213138                       25M                      RL   \n",
       "213141                       25M                      RL   \n",
       "\n",
       "       effective_date_date_verified filed_date  paid_date  amount  \\\n",
       "3277                     2014-03-08 2014-01-02        NaT   846.0   \n",
       "3278                     2014-03-08 2014-01-02        NaT   846.0   \n",
       "4521                     2011-07-27 2011-07-21        NaT  2689.0   \n",
       "4541                     2011-07-27 2011-07-21        NaT  2689.0   \n",
       "6448                     2014-07-09 2014-05-30        NaT   262.0   \n",
       "...                             ...        ...        ...     ...   \n",
       "204133                   2014-08-20 2014-07-14        NaT   625.0   \n",
       "205148                   2014-10-28 2013-06-20 2014-10-01  1210.0   \n",
       "210569                   2011-09-07 2011-01-27 2011-07-29   425.0   \n",
       "213138                   2016-04-17 2014-08-15 2014-08-29    79.0   \n",
       "213141                   2016-04-17 2010-08-26 2011-09-07    53.0   \n",
       "\n",
       "       public_record_source_type_code equal_credit_opportunity_act_code  \\\n",
       "3277                               RD                                 I   \n",
       "3278                               RD                                 I   \n",
       "4521                               RD                                 I   \n",
       "4541                               RD                                 I   \n",
       "6448                               RD                                 C   \n",
       "...                               ...                               ...   \n",
       "204133                             RD                                 I   \n",
       "205148                             RD                                 I   \n",
       "210569                             RD                                 I   \n",
       "213138                             RD                                 C   \n",
       "213141                             RD                                 C   \n",
       "\n",
       "        legislative_prohibited_code  \n",
       "3277                              1  \n",
       "3278                              1  \n",
       "4521                              1  \n",
       "4541                              1  \n",
       "6448                              1  \n",
       "...                             ...  \n",
       "204133                            1  \n",
       "205148                            1  \n",
       "210569                            1  \n",
       "213138                            1  \n",
       "213141                            1  \n",
       "\n",
       "[126 rows x 11 columns]"
      ]
     },
     "execution_count": 21,
     "metadata": {},
     "output_type": "execute_result"
    }
   ],
   "source": [
    "public[public.duplicated()]"
   ]
  },
  {
   "cell_type": "code",
   "execution_count": 15,
   "id": "f73447fc-13f6-4b3a-b301-b9ec04d28105",
   "metadata": {},
   "outputs": [],
   "source": [
    "public = public.dropna(subset = 'effective_date_date_verified').dropna(subset = 'public_record_source_type_code')"
   ]
  },
  {
   "cell_type": "code",
   "execution_count": null,
   "id": "a3052708-3415-48eb-b842-b825c3ccfb67",
   "metadata": {},
   "outputs": [],
   "source": []
  },
  {
   "cell_type": "code",
   "execution_count": 16,
   "id": "00edef35-421c-4629-8402-94de573d1207",
   "metadata": {},
   "outputs": [
    {
     "data": {
      "text/plain": [
       "analytics_matchkey                       0\n",
       "industry_code_kind_of_business           0\n",
       "reporting_subscriber_code                0\n",
       "public_record_type_code                  0\n",
       "effective_date_date_verified             0\n",
       "filed_date                               0\n",
       "paid_date                            88451\n",
       "amount                               61468\n",
       "public_record_source_type_code           0\n",
       "equal_credit_opportunity_act_code        0\n",
       "legislative_prohibited_code              0\n",
       "dtype: int64"
      ]
     },
     "execution_count": 16,
     "metadata": {},
     "output_type": "execute_result"
    }
   ],
   "source": [
    "public.isna().sum()"
   ]
  },
  {
   "cell_type": "markdown",
   "id": "c5567d6f-9b13-41e9-b519-4ef148682686",
   "metadata": {},
   "source": [
    "**Some entries have a non-NA paid_date and 0 in amount. You can't pay a zero. These entries are invalid, so we should drop them**"
   ]
  },
  {
   "cell_type": "code",
   "execution_count": 12,
   "id": "eac30986-acd8-4a36-bf16-336ecdc0f28c",
   "metadata": {},
   "outputs": [
    {
     "data": {
      "text/plain": [
       "774"
      ]
     },
     "execution_count": 12,
     "metadata": {},
     "output_type": "execute_result"
    }
   ],
   "source": [
    "zero_paid = public.loc[public['amount'] == 0 & public['paid_date'].notna()]\n",
    "len(zero_paid)"
   ]
  },
  {
   "cell_type": "code",
   "execution_count": 13,
   "id": "f80a9f87-e074-4088-af42-32968bf618f2",
   "metadata": {},
   "outputs": [],
   "source": [
    "public.drop(list(zero_paid.index), axis=0, inplace=True)"
   ]
  },
  {
   "cell_type": "markdown",
   "id": "e7a180b3-bd18-4b62-a669-bfac39705fbc",
   "metadata": {},
   "source": [
    "**Some codes were not in the dictionary. Need to update the dictionary. I asked ChatGPT for the missing codes and put them into excel**"
   ]
  },
  {
   "cell_type": "markdown",
   "id": "3723b384-c351-4b83-aae5-808eba08ff01",
   "metadata": {},
   "source": [
    "There are 134717 unique analytics_matchkey.s (compared to 218303 non-unique analytics_matchkey.s in the dataset, which means that there can be multiple records per customer)"
   ]
  },
  {
   "cell_type": "code",
   "execution_count": 15,
   "id": "aa89df75-8fdf-43df-a2e4-4ca36931602f",
   "metadata": {
    "scrolled": true
   },
   "outputs": [
    {
     "data": {
      "text/plain": [
       "count    134303.000000\n",
       "mean          1.617559\n",
       "std           1.318967\n",
       "min           1.000000\n",
       "25%           1.000000\n",
       "50%           1.000000\n",
       "75%           2.000000\n",
       "max          87.000000\n",
       "Name: count, dtype: float64"
      ]
     },
     "execution_count": 15,
     "metadata": {},
     "output_type": "execute_result"
    }
   ],
   "source": [
    "public.value_counts('analytics_matchkey').describe()"
   ]
  },
  {
   "cell_type": "markdown",
   "id": "eb3ab7de-8070-45d2-b307-3a88196bfdc8",
   "metadata": {},
   "source": [
    "### Variable analysis ###"
   ]
  },
  {
   "cell_type": "code",
   "execution_count": 3,
   "id": "37c6b414-9204-4c24-be8c-8ec8d123d18b",
   "metadata": {},
   "outputs": [
    {
     "ename": "NameError",
     "evalue": "name 'public' is not defined",
     "output_type": "error",
     "traceback": [
      "\u001b[0;31m---------------------------------------------------------------------------\u001b[0m",
      "\u001b[0;31mNameError\u001b[0m                                 Traceback (most recent call last)",
      "Cell \u001b[0;32mIn[3], line 1\u001b[0m\n\u001b[0;32m----> 1\u001b[0m industry, record_type, record_source \u001b[38;5;241m=\u001b[39m [public\u001b[38;5;241m.\u001b[39mgroupby(col)[:] \u001b[38;5;28;01mfor\u001b[39;00m col \u001b[38;5;129;01min\u001b[39;00m [\u001b[38;5;124m'\u001b[39m\u001b[38;5;124mindustry_code_kind_of_business\u001b[39m\u001b[38;5;124m'\u001b[39m, \n\u001b[1;32m      2\u001b[0m                                                                                             \u001b[38;5;124m'\u001b[39m\u001b[38;5;124mpublic_record_type_code\u001b[39m\u001b[38;5;124m'\u001b[39m, \n\u001b[1;32m      3\u001b[0m                                                                                             \u001b[38;5;124m'\u001b[39m\u001b[38;5;124mpublic_record_source_type_code\u001b[39m\u001b[38;5;124m'\u001b[39m, \n\u001b[1;32m      4\u001b[0m                                                                                             ]]\n",
      "\u001b[0;31mNameError\u001b[0m: name 'public' is not defined"
     ]
    }
   ],
   "source": [
    "industry, record_type, record_source = [public.groupby(col)[:] for col in ['industry_code_kind_of_business', \n",
    "                                                                                            'public_record_type_code', \n",
    "                                                                                            'public_record_source_type_code', \n",
    "                                                                                            ]]\n",
    " "
   ]
  },
  {
   "cell_type": "code",
   "execution_count": null,
   "id": "dfd90e02-1d00-4a59-aebc-be3ef844a756",
   "metadata": {},
   "outputs": [],
   "source": []
  },
  {
   "cell_type": "code",
   "execution_count": null,
   "id": "07d0f880-4e34-4084-b035-9f23277f91f7",
   "metadata": {},
   "outputs": [],
   "source": []
  },
  {
   "cell_type": "code",
   "execution_count": 20,
   "id": "e1f4ce7e-5226-4412-b401-df5c9f7e34fd",
   "metadata": {},
   "outputs": [],
   "source": [
    "public_M = public[public['amount'] > 0]"
   ]
  },
  {
   "cell_type": "code",
   "execution_count": 21,
   "id": "86438c2c-9add-4840-921f-44dd675e328b",
   "metadata": {
    "scrolled": true
   },
   "outputs": [
    {
     "data": {
      "text/plain": [
       "count     155775.00\n",
       "mean        4627.79\n",
       "std        41888.04\n",
       "min           12.00\n",
       "25%          652.00\n",
       "50%         1347.00\n",
       "75%         3192.00\n",
       "max      9999999.00\n",
       "Name: amount, dtype: float64"
      ]
     },
     "execution_count": 21,
     "metadata": {},
     "output_type": "execute_result"
    }
   ],
   "source": [
    "public_M['amount'].describe().round(2)"
   ]
  },
  {
   "cell_type": "code",
   "execution_count": 22,
   "id": "ce558acb-452d-45fb-b3ba-e4c0daf68a1f",
   "metadata": {},
   "outputs": [
    {
     "data": {
      "text/plain": [
       "(0.0, 10000.0)"
      ]
     },
     "execution_count": 22,
     "metadata": {},
     "output_type": "execute_result"
    },
    {
     "data": {
      "image/png": "[encoded data removed]",
      "text/plain": [
       "<Figure size 640x480 with 1 Axes>"
      ]
     },
     "metadata": {},
     "output_type": "display_data"
    }
   ],
   "source": [
    "sns.boxplot(\n",
    "    y = 'amount',\n",
    "    data = public_M\n",
    "    )\n",
    "plt.gca().set_ylim(0, 10000) "
   ]
  },
  {
   "cell_type": "markdown",
   "id": "802322ca-189b-4926-9244-2e5abe846d6d",
   "metadata": {},
   "source": [
    "throw away outliers using IQR"
   ]
  },
  {
   "cell_type": "code",
   "execution_count": 23,
   "id": "2f076db0-a58f-46ce-9452-82fb7a7d4395",
   "metadata": {},
   "outputs": [],
   "source": [
    "Q1 = public_M['amount'].quantile(0.25) \n",
    "Q3 = public_M['amount'].quantile(0.75)\n",
    "IQR = Q3 - Q1\n",
    "l_bound = Q1 - 1.5 * IQR\n",
    "u_bound = Q3 + 1.5 * IQR\n",
    "public_M = public_M[(public_M['amount'] >= l_bound) & (public_M['amount'] <= u_bound)]"
   ]
  },
  {
   "cell_type": "code",
   "execution_count": 24,
   "id": "2f402c16-c12d-46ed-862e-8c7e20fe848d",
   "metadata": {},
   "outputs": [
    {
     "data": {
      "text/plain": [
       "count    137402.0\n",
       "mean       1675.0\n",
       "std        1520.3\n",
       "min          12.0\n",
       "25%         592.0\n",
       "50%        1148.0\n",
       "75%        2247.0\n",
       "max        7002.0\n",
       "Name: amount, dtype: float64"
      ]
     },
     "execution_count": 24,
     "metadata": {},
     "output_type": "execute_result"
    }
   ],
   "source": [
    "public_M['amount'].describe().round(2)"
   ]
  },
  {
   "cell_type": "code",
   "execution_count": 25,
   "id": "1d556f60-7697-42a1-ac2e-baccaa315a61",
   "metadata": {},
   "outputs": [
    {
     "data": {
      "text/plain": [
       "<Axes: xlabel='amount', ylabel='Count'>"
      ]
     },
     "execution_count": 25,
     "metadata": {},
     "output_type": "execute_result"
    },
    {
     "data": {
      "image/png": "[encoded data removed]",
      "text/plain": [
       "<Figure size 1400x500 with 2 Axes>"
      ]
     },
     "metadata": {},
     "output_type": "display_data"
    }
   ],
   "source": [
    "fig, axes = plt.subplots(1,2, figsize = (14, 5))\n",
    "sns.kdeplot(public_M['amount'], clip = (0, None), ax = axes[0])\n",
    "sns.histplot(public_M['amount'], ax = axes[1])"
   ]
  },
  {
   "cell_type": "code",
   "execution_count": 26,
   "id": "0c6eedb3-2795-4286-9fca-3366d66f0113",
   "metadata": {},
   "outputs": [],
   "source": [
    "public_M['paid_binary'] = public_M['paid_date'].notna()\n",
    "def onezero(condition):\n",
    "    if condition:\n",
    "        return 1\n",
    "    else:\n",
    "        return 0\n",
    "public_M['paid_binary'] = public_M['paid_binary'].map(onezero)"
   ]
  },
  {
   "cell_type": "markdown",
   "id": "0b437461-c036-421c-8a09-b24f67c80ebd",
   "metadata": {},
   "source": [
    "monetary (valid) VS non-monetary cases"
   ]
  },
  {
   "cell_type": "code",
   "execution_count": 27,
   "id": "a9a77552-2024-4927-ab9e-1d9f84651fac",
   "metadata": {},
   "outputs": [
    {
     "data": {
      "text/plain": [
       "analytics_matchkey                       0\n",
       "industry_code_kind_of_business           0\n",
       "reporting_subscriber_code                0\n",
       "public_record_type_code                  0\n",
       "effective_date_date_verified             0\n",
       "filed_date                               0\n",
       "paid_date                            73695\n",
       "amount                                   0\n",
       "public_record_source_type_code           0\n",
       "equal_credit_opportunity_act_code        0\n",
       "legislative_prohibited_code              0\n",
       "paid_binary                              0\n",
       "dtype: int64"
      ]
     },
     "execution_count": 27,
     "metadata": {},
     "output_type": "execute_result"
    }
   ],
   "source": [
    "public_M.isna().sum()"
   ]
  },
  {
   "cell_type": "code",
   "execution_count": null,
   "id": "843da06c-0162-4d53-908e-08702e3d90e3",
   "metadata": {},
   "outputs": [],
   "source": []
  },
  {
   "cell_type": "markdown",
   "id": "e4719768-2ba1-4327-a1f8-f03648f58dce",
   "metadata": {},
   "source": [
    "count unique values\n",
    "whether paid depends on case type!!\n",
    "count categorical values for paid/unpaid"
   ]
  },
  {
   "cell_type": "markdown",
   "id": "fd3158ad-14d4-48d8-9b4c-e1b317931a9e",
   "metadata": {},
   "source": [
    "do any of public records variables (esp. categorical) influence presence of a particular analytics_matchkey from public records in the merged dataset? what are the biggest proportions of analytics_matchkey in merged to matchkey in public?"
   ]
  },
  {
   "cell_type": "markdown",
   "id": "f513ba6d-0627-498b-a276-74af4474226b",
   "metadata": {},
   "source": [
    "# Two databases together"
   ]
  },
  {
   "cell_type": "code",
   "execution_count": null,
   "id": "f9d6d23f-2757-4400-9196-6a6478d4dcb9",
   "metadata": {},
   "outputs": [],
   "source": []
  },
  {
   "cell_type": "code",
   "execution_count": null,
   "id": "3232b503-1c1e-4c82-aab3-d6ff3d67d5d7",
   "metadata": {},
   "outputs": [],
   "source": []
  },
  {
   "cell_type": "code",
   "execution_count": null,
   "id": "fcf89bfb-f0ef-4a98-8817-531e8e73cb9a",
   "metadata": {},
   "outputs": [],
   "source": []
  }
 ],
 "metadata": {
  "kernelspec": {
   "display_name": "Python 3 (ipykernel)",
   "language": "python",
   "name": "python3"
  },
  "language_info": {
   "codemirror_mode": {
    "name": "ipython",
    "version": 3
   },
   "file_extension": ".py",
   "mimetype": "text/x-python",
   "name": "python",
   "nbconvert_exporter": "python",
   "pygments_lexer": "ipython3",
   "version": "3.12.2"
  }
 },
 "nbformat": 4,
 "nbformat_minor": 5
}
